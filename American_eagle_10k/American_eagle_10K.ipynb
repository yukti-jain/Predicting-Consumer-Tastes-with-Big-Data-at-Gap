{
 "cells": [
  {
   "cell_type": "code",
   "execution_count": 1,
   "id": "e5228288",
   "metadata": {},
   "outputs": [
    {
     "name": "stdout",
     "output_type": "stream",
     "text": [
      "Requirement already satisfied: tabula-py in c:\\users\\dell\\anaconda3\\lib\\site-packages (2.8.2)\n",
      "Requirement already satisfied: pandas>=0.25.3 in c:\\users\\dell\\anaconda3\\lib\\site-packages (from tabula-py) (1.5.3)\n",
      "Requirement already satisfied: numpy in c:\\users\\dell\\anaconda3\\lib\\site-packages (from tabula-py) (1.24.3)\n",
      "Requirement already satisfied: distro in c:\\users\\dell\\anaconda3\\lib\\site-packages (from tabula-py) (1.8.0)\n",
      "Requirement already satisfied: jpype1 in c:\\users\\dell\\anaconda3\\lib\\site-packages (from tabula-py) (1.4.1)\n",
      "Requirement already satisfied: python-dateutil>=2.8.1 in c:\\users\\dell\\anaconda3\\lib\\site-packages (from pandas>=0.25.3->tabula-py) (2.8.2)\n",
      "Requirement already satisfied: pytz>=2020.1 in c:\\users\\dell\\anaconda3\\lib\\site-packages (from pandas>=0.25.3->tabula-py) (2022.7)\n",
      "Requirement already satisfied: packaging in c:\\users\\dell\\anaconda3\\lib\\site-packages (from jpype1->tabula-py) (23.0)\n",
      "Requirement already satisfied: six>=1.5 in c:\\users\\dell\\anaconda3\\lib\\site-packages (from python-dateutil>=2.8.1->pandas>=0.25.3->tabula-py) (1.16.0)\n",
      "Note: you may need to restart the kernel to use updated packages.\n"
     ]
    }
   ],
   "source": [
    "pip install tabula-py"
   ]
  },
  {
   "cell_type": "code",
   "execution_count": 2,
   "id": "6f25666b",
   "metadata": {},
   "outputs": [],
   "source": [
    "import re\n",
    "\n",
    "import tabula\n",
    "\n",
    "import pandas as pd\n"
   ]
  },
  {
   "cell_type": "code",
   "execution_count": 17,
   "id": "8580161e",
   "metadata": {},
   "outputs": [],
   "source": [
    "\n",
    "tables=tabula.read_pdf('C:\\\\Users\\Dell\\Documents\\Purdue\\Coursework\\Web Data Analytics\\Project\\American_eagle_10K.pdf',pages='all')\n",
    "\n",
    "df=tables[9]\n",
    "\n",
    "# Drop rows and columns with all NaN values\n",
    "df_cleaned = df.dropna(axis=0, how='all').dropna(axis=1, how='all')\n",
    "\n",
    "# Consolidate headers\n",
    "header_row = df_cleaned.iloc[2]  # Assuming the header row is the first non-empty row\n",
    "df_cleaned.columns = header_row.fillna(method='ffill')  # Forward fill NaN values in the header row\n",
    "\n",
    "# Extract data from specific rows and columns\n",
    "net_sales_data = df_cleaned.loc[5,:].dropna()\n",
    "gross_profit = df_cleaned.loc[7,:].dropna()\n",
    "operating_income = df_cleaned.loc[9,:].dropna()\n",
    "\n",
    "tables1=tabula.read_pdf('C:\\\\Users\\Dell\\Documents\\Purdue\\Coursework\\Web Data Analytics\\Project\\American_eagle_10K_2014.pdf',pages='all')\n",
    "\n",
    "df=tables1[7]\n",
    "\n",
    "# Drop rows and columns with all NaN values\n",
    "df_cleaned1 = df.dropna(axis=0, how='all').dropna(axis=1, how='all')\n",
    "\n",
    "# Consolidate headers\n",
    "header_row = df_cleaned1.iloc[0]  # Assuming the header row is the first non-empty row\n",
    "df_cleaned1.columns = header_row.fillna(method='ffill')  # Forward fill NaN values in the header row\n",
    "\n",
    "# Extract data from specific rows and columns\n",
    "net_sales_data1 = df_cleaned1.loc[2,1:].dropna()\n",
    "gross_profit1 = df_cleaned1.loc[5,1:].dropna()\n",
    "operating_income1 = df_cleaned1.loc[7,1:].dropna()\n",
    "\n",
    "#print(net_sales_data1)\n",
    "\n",
    "result = pd.concat([net_sales_data, gross_profit, operating_income], axis=1, ignore_index=False)\n",
    "result1 = pd.concat([net_sales_data1, gross_profit1, operating_income1], axis=1, ignore_index=False)\n",
    "\n",
    "result1.columns = result.columns\n",
    "\n",
    "concatenated_df = pd.concat([result,result1], axis=0, ignore_index=False)\n",
    "\n",
    "concatenated_df.index.name = 'Fiscal Year'\n",
    "\n",
    "concatenated_df.to_csv('C:\\\\Users\\Dell\\Documents\\Purdue\\Coursework\\Web Data Analytics\\Project\\American_eagle_10K.csv')"
   ]
  },
  {
   "cell_type": "code",
   "execution_count": null,
   "id": "4d6b1d4f",
   "metadata": {},
   "outputs": [],
   "source": []
  }
 ],
 "metadata": {
  "kernelspec": {
   "display_name": "Python 3 (ipykernel)",
   "language": "python",
   "name": "python3"
  },
  "language_info": {
   "codemirror_mode": {
    "name": "ipython",
    "version": 3
   },
   "file_extension": ".py",
   "mimetype": "text/x-python",
   "name": "python",
   "nbconvert_exporter": "python",
   "pygments_lexer": "ipython3",
   "version": "3.11.4"
  }
 },
 "nbformat": 4,
 "nbformat_minor": 5
}

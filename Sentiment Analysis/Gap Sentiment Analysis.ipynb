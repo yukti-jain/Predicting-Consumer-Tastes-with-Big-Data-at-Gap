{
 "cells": [
  {
   "cell_type": "code",
   "execution_count": 2,
   "id": "646d7546",
   "metadata": {},
   "outputs": [
    {
     "name": "stdout",
     "output_type": "stream",
     "text": [
      "Average Rating: 2.195744680851064\n",
      "Positive Count: 44\n",
      "Negative Count: 93\n",
      "Neutral Count: 10\n",
      "Mixed Count: 88\n"
     ]
    },
    {
     "data": {
      "image/png": "[encoded data removed]",
      "text/plain": [
       "<Figure size 600x300 with 1 Axes>"
      ]
     },
     "metadata": {},
     "output_type": "display_data"
    }
   ],
   "source": [
    "import pandas as pd\n",
    "from azure.ai.textanalytics import TextAnalyticsClient\n",
    "from azure.core.credentials import AzureKeyCredential\n",
    "import matplotlib.pyplot as plt\n",
    "\n",
    "\n",
    "# Replace these with your Azure Text Analytics credentials\n",
    "azure_key = \"a308c79848c54a2cb03e3023ffedff10\"\n",
    "azure_endpoint = \"https://web-data-chinmay.cognitiveservices.azure.com/\"\n",
    "\n",
    "# Initialize the Text Analytics client\n",
    "credential = AzureKeyCredential(azure_key)\n",
    "text_analytics_client = TextAnalyticsClient(endpoint=azure_endpoint, credential=credential)\n",
    "\n",
    "# Function to perform sentiment analysis on a text\n",
    "def analyze_sentiment(text):\n",
    "    response = text_analytics_client.analyze_sentiment([text])\n",
    "    sentiment = response[0].sentiment\n",
    "    return sentiment\n",
    "\n",
    "# Read the CSV file into a DataFrame (assuming 'reviews.csv' as your file)\n",
    "file_path = 'GAP reviews.csv'\n",
    "df = pd.read_csv(file_path)\n",
    "\n",
    "# Create a list to store individual review sentiments\n",
    "individual_sentiments = []\n",
    "\n",
    "# Iterate through rows and analyze each review\n",
    "for _, row in df.iterrows():\n",
    "    review = row['Review Text']\n",
    "    sentiment = analyze_sentiment(str(review).strip())  # Strip leading/trailing whitespace\n",
    "    individual_sentiments.append(sentiment)\n",
    "\n",
    "# Add the individual sentiment results to the DataFrame\n",
    "df['Individual_Sentiment'] = individual_sentiments\n",
    "\n",
    "# Calculate the overall sentiment (e.g., majority sentiment)\n",
    "def calculate_overall_sentiment(sentiments):\n",
    "    # Perform your logic here to calculate overall sentiment (e.g., majority vote)\n",
    "    # For simplicity, this example uses the majority sentiment as overall sentiment.\n",
    "    sentiment_counts = pd.Series(sentiments).value_counts()\n",
    "    overall_sentiment = sentiment_counts.idxmax()\n",
    "    return overall_sentiment\n",
    "\n",
    "overall_sentiment = calculate_overall_sentiment(individual_sentiments)\n",
    "\n",
    "# Add the overall sentiment to the DataFrame\n",
    "df['Overall_Sentiment'] = overall_sentiment\n",
    "\n",
    "# Calculate the average rating\n",
    "average_rating = df['Rating'].mean()\n",
    "\n",
    "# Print the average rating\n",
    "print(\"Average Rating:\", average_rating)\n",
    "\n",
    "sentiment_counts = df['Individual_Sentiment'].value_counts()\n",
    "positive_count = sentiment_counts.get('positive', 0)\n",
    "negative_count = sentiment_counts.get('negative', 0)\n",
    "neutral_count = sentiment_counts.get('neutral', 0)\n",
    "mixed_count = sentiment_counts.get('mixed', 0)\n",
    "\n",
    "# Display the counts\n",
    "print(\"Positive Count:\", positive_count)\n",
    "print(\"Negative Count:\", negative_count)\n",
    "print(\"Neutral Count:\", neutral_count)\n",
    "print(\"Mixed Count:\", mixed_count)\n",
    "\n",
    "sentiment_counts = df['Individual_Sentiment'].value_counts()\n",
    "\n",
    "# Create a bar graph\n",
    "plt.figure(figsize=(6, 3))\n",
    "sentiment_counts.plot(kind='bar', color=['Red', 'blue', 'green', 'gray'])\n",
    "plt.title('Sentiment Analysis')\n",
    "plt.xlabel('Sentiment')\n",
    "plt.ylabel('Count')\n",
    "\n",
    "# Display the bar graph\n",
    "plt.show()"
   ]
  },
  {
   "cell_type": "code",
   "execution_count": null,
   "id": "688da845",
   "metadata": {},
   "outputs": [],
   "source": []
  }
 ],
 "metadata": {
  "kernelspec": {
   "display_name": "Python 3 (ipykernel)",
   "language": "python",
   "name": "python3"
  },
  "language_info": {
   "codemirror_mode": {
    "name": "ipython",
    "version": 3
   },
   "file_extension": ".py",
   "mimetype": "text/x-python",
   "name": "python",
   "nbconvert_exporter": "python",
   "pygments_lexer": "ipython3",
   "version": "3.11.4"
  }
 },
 "nbformat": 4,
 "nbformat_minor": 5
}

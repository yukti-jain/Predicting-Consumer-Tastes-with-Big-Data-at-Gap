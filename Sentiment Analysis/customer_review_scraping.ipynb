{
 "cells": [
  {
   "cell_type": "markdown",
   "id": "a586c038",
   "metadata": {},
   "source": [
    "#### Import all the required files"
   ]
  },
  {
   "cell_type": "code",
   "execution_count": null,
   "id": "de39cdab",
   "metadata": {},
   "outputs": [],
   "source": [
    "import csv\n",
    "from selenium import webdriver\n",
    "from selenium.webdriver.common.by import By\n",
    "from selenium.webdriver.support.ui import WebDriverWait\n",
    "from selenium.webdriver.support import expected_conditions as EC\n",
    "from selenium.common.exceptions import NoSuchElementException\n",
    "import urllib.request, urllib.error, urllib.parse\n",
    "import json\n",
    "import time\n",
    "import random\n",
    "import bs4 as bs\n",
    "from bs4 import SoupStrainer\n",
    "import pandas as pd"
   ]
  },
  {
   "cell_type": "markdown",
   "id": "afdc00f8",
   "metadata": {},
   "source": [
    "#### Trustpilot link :\n",
    "#### GAP - https://www.trustpilot.com/review/gap.co.uk Page Range - (1, 12)\n",
    "#### Old Navy - https://www.trustpilot.com/review/www.oldnavy.com Page Range - (1, 3)\n",
    "#### Banana Republic - https://www.trustpilot.com/review/bananarepublic.eu Page Range - (1,5)\n",
    "#### American Eagle Outfitters - https://www.trustpilot.com/review/americaneagleoutfitters.com Page Range - (1,4)"
   ]
  },
  {
   "cell_type": "code",
   "execution_count": 40,
   "id": "75e2170f",
   "metadata": {},
   "outputs": [
    {
     "name": "stdout",
     "output_type": "stream",
     "text": [
      "1\n",
      "2\n",
      "3\n",
      "4\n"
     ]
    }
   ],
   "source": [
    "counter = 1\n",
    "page_htmls = []\n",
    "for page_no in range(1,5):\n",
    "    print(counter)\n",
    "    counter += 1\n",
    "    driver = webdriver.Chrome()\n",
    "    url = f'https://www.trustpilot.com/review/americaneagleoutfitters.com?page={page_no}'\n",
    "    driver.get(url)\n",
    "    time.sleep(3)\n",
    "    html = driver.page_source # Get the html of the page\n",
    "    page_htmls.append(html)\n",
    "    driver.quit() # Close the browser"
   ]
  },
  {
   "cell_type": "markdown",
   "id": "f6201b6d",
   "metadata": {},
   "source": [
    "#### Extracting reviews using beautiful soup."
   ]
  },
  {
   "cell_type": "code",
   "execution_count": 41,
   "id": "12024242",
   "metadata": {},
   "outputs": [
    {
     "name": "stdout",
     "output_type": "stream",
     "text": [
      "1\n",
      "2\n",
      "3\n",
      "4\n",
      "70\n",
      "70\n",
      "70\n"
     ]
    }
   ],
   "source": [
    "from bs4 import BeautifulSoup\n",
    "\n",
    "# Parse the HTML content with BeautifulSoup\n",
    "\n",
    "# Initialize empty lists to store ratings, headings, and bodies\n",
    "ratings = []\n",
    "titles = []\n",
    "review_body = []\n",
    "\n",
    "# Find all review sections\n",
    "counter = 1\n",
    "for page_html in page_htmls:\n",
    "    print(counter)\n",
    "    counter += 1\n",
    "    soup = BeautifulSoup(page_html, 'html.parser')\n",
    "    review_divs = soup.find_all('div', class_='styles_reviewContent__0Q2Tg')\n",
    "    # Loop through each review div\n",
    "    for review_div in review_divs:\n",
    "        # Extract the review title\n",
    "        review_title_element = review_div.find('h2', class_='typography_heading-s__f7029')\n",
    "        review_text_element = review_div.find('p', class_='typography_body-l__KUYFJ')\n",
    "        \n",
    "        # Check if the elements exist before accessing their text\n",
    "        if review_title_element:\n",
    "            review_title = review_title_element.text.strip()\n",
    "            titles.append(review_title)\n",
    "        else:\n",
    "            titles.append(None)  # Append None if the title element is not found\n",
    "        \n",
    "        if review_text_element:\n",
    "            review_text = review_text_element.text.strip()\n",
    "            review_body.append(review_text)\n",
    "        else:\n",
    "            review_body.append(None)  # Append None if the text element is not found\n",
    "\n",
    "    review_ratings = soup.find_all('div', class_='styles_reviewHeader__iU9Px')\n",
    "    for review_rating in review_ratings:\n",
    "        rating_value = review_rating['data-service-review-rating']\n",
    "        ratings.append(rating_value)\n",
    "    #         # Print the review title and text\n",
    "    #         print('Review Title:', review_title)\n",
    "    #         print('Review Text:', review_text)\n",
    "    #         print('---')\n",
    "\n",
    "    # Print or use the extracted data as needed\n",
    "print(len(ratings))\n",
    "print(len(titles))\n",
    "print(len(review_body))"
   ]
  },
  {
   "cell_type": "markdown",
   "id": "b0a6ffa1",
   "metadata": {},
   "source": [
    "#### Saving extracted reviews in a csv."
   ]
  },
  {
   "cell_type": "code",
   "execution_count": 42,
   "id": "a3806357",
   "metadata": {},
   "outputs": [],
   "source": [
    "data_frame = {\n",
    "    \"Rating\": ratings,\n",
    "    \"Review Title\": titles,\n",
    "    \"Review Text\": review_body,    \n",
    "}\n",
    "df = pd.DataFrame(data_frame)\n",
    "df.to_csv('American Eagle  reviews.csv', index=False)"
   ]
  }
 ],
 "metadata": {
  "kernelspec": {
   "display_name": "Python 3 (ipykernel)",
   "language": "python",
   "name": "python3"
  },
  "language_info": {
   "codemirror_mode": {
    "name": "ipython",
    "version": 3
   },
   "file_extension": ".py",
   "mimetype": "text/x-python",
   "name": "python",
   "nbconvert_exporter": "python",
   "pygments_lexer": "ipython3",
   "version": "3.11.4"
  }
 },
 "nbformat": 4,
 "nbformat_minor": 5
}

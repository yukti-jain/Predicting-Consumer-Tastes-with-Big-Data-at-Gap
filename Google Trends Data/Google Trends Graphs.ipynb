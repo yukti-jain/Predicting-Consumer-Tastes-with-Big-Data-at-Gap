{
 "cells": [
  {
   "cell_type": "code",
   "execution_count": 24,
   "metadata": {},
   "outputs": [],
   "source": [
    "import pandas as pd\n",
    "import os\n",
    "\n",
    "# Specify the subdirectory containing the CSV files\n",
    "subdirectory = 'Data\\Google Trends Data'\n",
    "\n",
    "# Get the current working directory\n",
    "current_directory = os.getcwd()\n",
    "\n",
    "# Combine the current directory and subdirectory to get the full path\n",
    "directory = os.path.join(current_directory, subdirectory)\n",
    "\n",
    "# Create an empty list to store dataframes and their corresponding filenames\n",
    "dataframes_and_filenames = []\n",
    "\n",
    "# Loop through all files in the subdirectory\n",
    "for filename in os.listdir(directory):\n",
    "    if filename.endswith('.csv'):\n",
    "        file_path = os.path.join(directory, filename)\n",
    "        \n",
    "        # Read each CSV file, skip the first row, and rename columns\n",
    "        df = pd.read_csv(file_path, skiprows=1)\n",
    "        df.columns = ['Date', 'Search Volume']\n",
    "\n",
    "        dataframes_and_filenames.append((df, filename))\n",
    "\n",
    "# Split the combined DataFrame into two based on the year\n",
    "for df, original_filename in dataframes_and_filenames:\n",
    "    df_2015_or_later = df[df['Date'].str.split('-').str[0].astype(int) >= 2015]\n",
    "    df_2014_and_earlier = df[df['Date'].str.split('-').str[0].astype(int) <= 2014]\n",
    "\n",
    "    # Define the paths for saving the split DataFrames as CSV files\n",
    "    output_dir = directory  # Specify the directory where you want to save the CSV files\n",
    "    os.makedirs(output_dir, exist_ok=True)\n",
    "\n",
    "    output_file_2015_or_later = os.path.join(output_dir, original_filename.replace('.csv', '_2015_or_later.csv'))\n",
    "    output_file_2014_and_earlier = os.path.join(output_dir, original_filename.replace('.csv', '_2014_and_earlier.csv'))\n",
    "\n",
    "    # Save the split DataFrames as CSV files with the original filename as part of the new filename\n",
    "    df_2015_or_later.to_csv(output_file_2015_or_later, index=False)\n",
    "    df_2014_and_earlier.to_csv(output_file_2014_and_earlier, index=False)\n",
    "\n",
    "# Now, each split CSV file will have the name of the original file as part of the new filename\n"
   ]
  }
 ],
 "metadata": {
  "kernelspec": {
   "display_name": "Python 3",
   "language": "python",
   "name": "python3"
  },
  "language_info": {
   "codemirror_mode": {
    "name": "ipython",
    "version": 3
   },
   "file_extension": ".py",
   "mimetype": "text/x-python",
   "name": "python",
   "nbconvert_exporter": "python",
   "pygments_lexer": "ipython3",
   "version": "3.8.5"
  }
 },
 "nbformat": 4,
 "nbformat_minor": 4
}
